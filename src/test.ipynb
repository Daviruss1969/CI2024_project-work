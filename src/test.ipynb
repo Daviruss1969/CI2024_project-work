{
 "cells": [
  {
   "cell_type": "code",
   "execution_count": 1,
   "metadata": {},
   "outputs": [],
   "source": [
    "from tqdm import tqdm\n",
    "from gp import Symreg_gp, Individual, Node\n",
    "import numpy as np\n",
    "import matplotlib.pyplot as plt\n"
   ]
  },
  {
   "cell_type": "code",
   "execution_count": null,
   "metadata": {},
   "outputs": [],
   "source": [
    "# Get all numpy ufunc callable\n",
    "ufuncs = [obj for _, obj in np.__dict__.items() if isinstance(obj, np.ufunc)]\n",
    "\n",
    "# Displau ufuncs list\n",
    "print(len(ufuncs), ufuncs)\n",
    "\n",
    "valid_ufuncs = Symreg_gp.get_valid_ufuncs()\n",
    "print(len(valid_ufuncs), valid_ufuncs)"
   ]
  },
  {
   "cell_type": "code",
   "execution_count": null,
   "metadata": {},
   "outputs": [],
   "source": [
    "problems = [\n",
    "        np.load('../data/problem_0.npz'),\n",
    "        np.load('../data/problem_1.npz'),\n",
    "        np.load('../data/problem_2.npz'),\n",
    "        np.load('../data/problem_3.npz'),\n",
    "        np.load('../data/problem_4.npz'),\n",
    "        np.load('../data/problem_5.npz'),\n",
    "        np.load('../data/problem_6.npz'),\n",
    "        np.load('../data/problem_7.npz'),\n",
    "        np.load('../data/problem_8.npz')\n",
    "    ]\n",
    "\n",
    "for i in range(len(problems)):\n",
    "    print(f\"problem {i}\", problems[i]['x'].shape)\n",
    "\n",
    "problem = problems[4]\n",
    "\n",
    "X = problem['x']\n",
    "Y = problem['y']"
   ]
  },
  {
   "cell_type": "code",
   "execution_count": 4,
   "metadata": {},
   "outputs": [],
   "source": [
    "a = Symreg_gp(len(X), Y, 100, 200, 4)"
   ]
  },
  {
   "cell_type": "code",
   "execution_count": null,
   "metadata": {},
   "outputs": [],
   "source": [
    "mse_history = []\n",
    "\n",
    "a(X.T)\n",
    "list_mse = a.update_mse()\n",
    "\n",
    "for i in tqdm(range(500)):\n",
    "    min_mse = np.min(list_mse)\n",
    "    mse_history.append(min_mse)\n",
    "\n",
    "    a(X.T)\n",
    "    list_mse = a.update_mse(min_mse)\n",
    "    if i%10 == 0 and i != 0:\n",
    "        print(list_mse)\n",
    "        print(np.mean(list_mse))\n",
    "        print(min_mse)\n",
    "        print(a.get_fittest_individual().fitness)"
   ]
  },
  {
   "cell_type": "code",
   "execution_count": null,
   "metadata": {},
   "outputs": [],
   "source": [
    "# Graph plot\n",
    "plt.figure(figsize=(10, 6))\n",
    "plt.plot(mse_history, label=\"MSE\")\n",
    "plt.xlabel(\"Iterations\")\n",
    "plt.ylabel(\"MSE\")\n",
    "plt.title(\"Fittest individual MSE\")\n",
    "plt.legend()\n",
    "plt.grid(True)\n",
    "plt.show()"
   ]
  },
  {
   "cell_type": "code",
   "execution_count": null,
   "metadata": {},
   "outputs": [],
   "source": [
    "individual = a.get_fittest_individual()\n",
    "individual.tree.draw()\n",
    "print(individual.tree.to_numpy())"
   ]
  }
 ],
 "metadata": {
  "kernelspec": {
   "display_name": "ci2024-project-work-U8pu44qy-py3.10",
   "language": "python",
   "name": "python3"
  },
  "language_info": {
   "codemirror_mode": {
    "name": "ipython",
    "version": 3
   },
   "file_extension": ".py",
   "mimetype": "text/x-python",
   "name": "python",
   "nbconvert_exporter": "python",
   "pygments_lexer": "ipython3",
   "version": "3.10.12"
  }
 },
 "nbformat": 4,
 "nbformat_minor": 2
}

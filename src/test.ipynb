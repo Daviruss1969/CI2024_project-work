{
 "cells": [
  {
   "cell_type": "code",
   "execution_count": 1,
   "metadata": {},
   "outputs": [],
   "source": [
    "import numpy as np\n",
    "from tqdm import tqdm\n",
    "from gp import Node, Symreg_gp, Individual"
   ]
  },
  {
   "cell_type": "code",
   "execution_count": 2,
   "metadata": {},
   "outputs": [
    {
     "name": "stdout",
     "output_type": "stream",
     "text": [
      "106 [<ufunc 'absolute'>, <ufunc 'absolute'>, <ufunc 'arccos'>, <ufunc 'arccosh'>, <ufunc 'add'>, <ufunc 'arccos'>, <ufunc 'arccosh'>, <ufunc 'arcsin'>, <ufunc 'arcsinh'>, <ufunc 'arctan'>, <ufunc 'arctan2'>, <ufunc 'arctanh'>, <ufunc 'arcsin'>, <ufunc 'arcsinh'>, <ufunc 'arctan'>, <ufunc 'arctanh'>, <ufunc 'arctan2'>, <ufunc 'bitwise_and'>, <ufunc 'bitwise_count'>, <ufunc 'invert'>, <ufunc 'left_shift'>, <ufunc 'invert'>, <ufunc 'bitwise_or'>, <ufunc 'right_shift'>, <ufunc 'bitwise_xor'>, <ufunc 'cbrt'>, <ufunc 'ceil'>, <ufunc 'conjugate'>, <ufunc 'conjugate'>, <ufunc 'copysign'>, <ufunc 'cos'>, <ufunc 'cosh'>, <ufunc 'deg2rad'>, <ufunc 'degrees'>, <ufunc 'divide'>, <ufunc 'divmod'>, <ufunc 'equal'>, <ufunc 'exp'>, <ufunc 'exp2'>, <ufunc 'expm1'>, <ufunc 'fabs'>, <ufunc 'float_power'>, <ufunc 'floor'>, <ufunc 'floor_divide'>, <ufunc 'fmax'>, <ufunc 'fmin'>, <ufunc 'fmod'>, <ufunc 'frexp'>, <ufunc 'gcd'>, <ufunc 'greater'>, <ufunc 'greater_equal'>, <ufunc 'heaviside'>, <ufunc 'hypot'>, <ufunc 'invert'>, <ufunc 'isfinite'>, <ufunc 'isinf'>, <ufunc 'isnan'>, <ufunc 'isnat'>, <ufunc 'lcm'>, <ufunc 'ldexp'>, <ufunc 'left_shift'>, <ufunc 'less'>, <ufunc 'less_equal'>, <ufunc 'log'>, <ufunc 'log10'>, <ufunc 'log1p'>, <ufunc 'log2'>, <ufunc 'logaddexp'>, <ufunc 'logaddexp2'>, <ufunc 'logical_and'>, <ufunc 'logical_not'>, <ufunc 'logical_or'>, <ufunc 'logical_xor'>, <ufunc 'matmul'>, <ufunc 'matvec'>, <ufunc 'maximum'>, <ufunc 'minimum'>, <ufunc 'remainder'>, <ufunc 'modf'>, <ufunc 'multiply'>, <ufunc 'negative'>, <ufunc 'nextafter'>, <ufunc 'not_equal'>, <ufunc 'positive'>, <ufunc 'power'>, <ufunc 'power'>, <ufunc 'rad2deg'>, <ufunc 'radians'>, <ufunc 'reciprocal'>, <ufunc 'remainder'>, <ufunc 'right_shift'>, <ufunc 'rint'>, <ufunc 'sign'>, <ufunc 'signbit'>, <ufunc 'sin'>, <ufunc 'sinh'>, <ufunc 'spacing'>, <ufunc 'sqrt'>, <ufunc 'square'>, <ufunc 'subtract'>, <ufunc 'tan'>, <ufunc 'tanh'>, <ufunc 'divide'>, <ufunc 'trunc'>, <ufunc 'vecdot'>, <ufunc 'vecmat'>]\n",
      "57 [<ufunc 'absolute'>, <ufunc 'arccos'>, <ufunc 'arccosh'>, <ufunc 'add'>, <ufunc 'arcsin'>, <ufunc 'arcsinh'>, <ufunc 'arctan'>, <ufunc 'arctan2'>, <ufunc 'arctanh'>, <ufunc 'cbrt'>, <ufunc 'ceil'>, <ufunc 'conjugate'>, <ufunc 'copysign'>, <ufunc 'cos'>, <ufunc 'cosh'>, <ufunc 'deg2rad'>, <ufunc 'degrees'>, <ufunc 'divide'>, <ufunc 'exp'>, <ufunc 'exp2'>, <ufunc 'expm1'>, <ufunc 'fabs'>, <ufunc 'floor'>, <ufunc 'floor_divide'>, <ufunc 'fmax'>, <ufunc 'fmin'>, <ufunc 'fmod'>, <ufunc 'heaviside'>, <ufunc 'hypot'>, <ufunc 'log'>, <ufunc 'log10'>, <ufunc 'log1p'>, <ufunc 'log2'>, <ufunc 'logaddexp'>, <ufunc 'logaddexp2'>, <ufunc 'maximum'>, <ufunc 'minimum'>, <ufunc 'remainder'>, <ufunc 'multiply'>, <ufunc 'negative'>, <ufunc 'nextafter'>, <ufunc 'positive'>, <ufunc 'power'>, <ufunc 'rad2deg'>, <ufunc 'radians'>, <ufunc 'reciprocal'>, <ufunc 'rint'>, <ufunc 'sign'>, <ufunc 'sin'>, <ufunc 'sinh'>, <ufunc 'spacing'>, <ufunc 'sqrt'>, <ufunc 'square'>, <ufunc 'subtract'>, <ufunc 'tan'>, <ufunc 'tanh'>, <ufunc 'trunc'>]\n"
     ]
    }
   ],
   "source": [
    "import numpy as np\n",
    "\n",
    "# Get all numpy ufunc callable\n",
    "ufuncs = [obj for _, obj in np.__dict__.items() if isinstance(obj, np.ufunc)]\n",
    "\n",
    "# Displau ufuncs list\n",
    "print(len(ufuncs), ufuncs)\n",
    "\n",
    "valid_ufuncs = Symreg_gp.get_valid_ufuncs()\n",
    "print(len(valid_ufuncs), valid_ufuncs)"
   ]
  },
  {
   "cell_type": "code",
   "execution_count": 3,
   "metadata": {},
   "outputs": [
    {
     "name": "stdout",
     "output_type": "stream",
     "text": [
      "(1, 500)\n",
      "(500,)\n"
     ]
    }
   ],
   "source": [
    "problem = np.load('../data/problem_1.npz')\n",
    "X = problem['x']\n",
    "Y = problem['y']\n",
    "print(X.shape)\n",
    "print(Y.shape)"
   ]
  },
  {
   "cell_type": "code",
   "execution_count": 4,
   "metadata": {},
   "outputs": [],
   "source": [
    "a = Symreg_gp(len(X), Y, 10, 30, 6)\n",
    "a.train(True)"
   ]
  },
  {
   "cell_type": "code",
   "execution_count": 5,
   "metadata": {},
   "outputs": [
    {
     "name": "stderr",
     "output_type": "stream",
     "text": [
      "  0%|          | 0/500 [00:00<?, ?it/s]/home/loiodilu/polito/computational_intelligence/CI2024_project-work/src/gp/node.py:20: RuntimeWarning: invalid value encountered in arctanh\n",
      "  return value(*_args)\n",
      "/home/loiodilu/polito/computational_intelligence/CI2024_project-work/src/gp/node.py:20: RuntimeWarning: invalid value encountered in sqrt\n",
      "  return value(*_args)\n",
      "/home/loiodilu/polito/computational_intelligence/CI2024_project-work/src/gp/node.py:20: RuntimeWarning: invalid value encountered in logaddexp\n",
      "  return value(*_args)\n",
      "/home/loiodilu/polito/computational_intelligence/CI2024_project-work/src/gp/node.py:20: RuntimeWarning: overflow encountered in power\n",
      "  return value(*_args)\n",
      "/home/loiodilu/polito/computational_intelligence/CI2024_project-work/src/gp/node.py:20: RuntimeWarning: invalid value encountered in log\n",
      "  return value(*_args)\n",
      "/home/loiodilu/polito/computational_intelligence/CI2024_project-work/src/gp/node.py:20: RuntimeWarning: invalid value encountered in logaddexp2\n",
      "  return value(*_args)\n",
      "/home/loiodilu/polito/computational_intelligence/CI2024_project-work/src/gp/individual.py:18: RuntimeWarning: overflow encountered in square\n",
      "  mse: float = 100*np.square(ground_truth-self._predictions).sum()/len(ground_truth)\n",
      "/home/loiodilu/polito/computational_intelligence/CI2024_project-work/src/gp/node.py:88: RuntimeWarning: invalid value encountered in log10\n",
      "  return operator(*_args)\n",
      "/home/loiodilu/polito/computational_intelligence/CI2024_project-work/src/gp/node.py:88: RuntimeWarning: invalid value encountered in arccosh\n",
      "  return operator(*_args)\n",
      "  0%|          | 2/500 [00:00<00:41, 11.91it/s]/home/loiodilu/polito/computational_intelligence/CI2024_project-work/src/gp/node.py:88: RuntimeWarning: invalid value encountered in log\n",
      "  return operator(*_args)\n",
      "/home/loiodilu/polito/computational_intelligence/CI2024_project-work/src/gp/node.py:88: RuntimeWarning: invalid value encountered in log2\n",
      "  return operator(*_args)\n",
      "/home/loiodilu/polito/computational_intelligence/CI2024_project-work/src/gp/node.py:20: RuntimeWarning: divide by zero encountered in arctanh\n",
      "  return value(*_args)\n",
      "  2%|▏         | 8/500 [00:00<01:08,  7.21it/s]/home/loiodilu/polito/computational_intelligence/CI2024_project-work/src/gp/node.py:88: RuntimeWarning: invalid value encountered in log1p\n",
      "  return operator(*_args)\n",
      "/home/loiodilu/polito/computational_intelligence/CI2024_project-work/src/gp/node.py:88: RuntimeWarning: invalid value encountered in sqrt\n",
      "  return operator(*_args)\n",
      "  2%|▏         | 9/500 [00:01<01:15,  6.47it/s]/home/loiodilu/polito/computational_intelligence/CI2024_project-work/src/gp/node.py:88: RuntimeWarning: invalid value encountered in arcsin\n",
      "  return operator(*_args)\n",
      "  2%|▏         | 12/500 [00:01<01:22,  5.95it/s]/home/loiodilu/polito/computational_intelligence/CI2024_project-work/src/gp/node.py:88: RuntimeWarning: invalid value encountered in power\n",
      "  return operator(*_args)\n",
      " 10%|▉         | 48/500 [00:08<00:29, 15.48it/s]/home/loiodilu/polito/computational_intelligence/CI2024_project-work/src/gp/node.py:88: RuntimeWarning: invalid value encountered in remainder\n",
      "  return operator(*_args)\n",
      " 16%|█▋        | 82/500 [00:10<00:27, 15.00it/s]/home/loiodilu/polito/computational_intelligence/CI2024_project-work/src/gp/node.py:88: RuntimeWarning: invalid value encountered in logaddexp2\n",
      "  return operator(*_args)\n",
      " 20%|█▉        | 98/500 [00:12<00:31, 12.74it/s]/home/loiodilu/polito/computational_intelligence/CI2024_project-work/src/gp/node.py:88: RuntimeWarning: invalid value encountered in fmod\n",
      "  return operator(*_args)\n",
      " 36%|███▌      | 180/500 [00:18<00:23, 13.49it/s]/home/loiodilu/polito/computational_intelligence/CI2024_project-work/src/gp/node.py:88: RuntimeWarning: divide by zero encountered in divide\n",
      "  return operator(*_args)\n",
      " 46%|████▋     | 232/500 [00:21<00:15, 16.94it/s]/home/loiodilu/polito/computational_intelligence/CI2024_project-work/src/gp/node.py:88: RuntimeWarning: divide by zero encountered in power\n",
      "  return operator(*_args)\n",
      "100%|██████████| 500/500 [00:41<00:00, 11.95it/s]\n"
     ]
    }
   ],
   "source": [
    "for _ in tqdm(range(500)):\n",
    "    a(X.T)\n",
    "    a.update_mse()"
   ]
  },
  {
   "cell_type": "code",
   "execution_count": 6,
   "metadata": {},
   "outputs": [
    {
     "data": {
      "image/png": "[encoded data removed]",
      "text/plain": [
       "<IPython.core.display.Image object>"
      ]
     },
     "metadata": {},
     "output_type": "display_data"
    },
    {
     "name": "stdout",
     "output_type": "stream",
     "text": [
      "[np.float64(138.73916157112856), np.float64(138.73916157112856), np.float64(0.32815452238947035), np.float64(131.1516823462557), np.float64(0.32815452238947035), np.float64(0.32815452238947035), np.float64(0.32815452238947035), np.float64(44.54594770444776), np.float64(0.32815452238947035), np.float64(37.06174381183848)]\n",
      "49.187846961674644\n",
      "0.32815452238947035\n"
     ]
    }
   ],
   "source": [
    "a(X.T)\n",
    "mean_square_errors = a.update_mse(draw_fittest=True)\n",
    "print(mean_square_errors)\n",
    "print(np.mean(mean_square_errors))\n",
    "print(np.min(mean_square_errors))"
   ]
  }
 ],
 "metadata": {
  "kernelspec": {
   "display_name": "ci2024-project-work-U8pu44qy-py3.10",
   "language": "python",
   "name": "python3"
  },
  "language_info": {
   "codemirror_mode": {
    "name": "ipython",
    "version": 3
   },
   "file_extension": ".py",
   "mimetype": "text/x-python",
   "name": "python",
   "nbconvert_exporter": "python",
   "pygments_lexer": "ipython3",
   "version": "3.10.12"
  }
 },
 "nbformat": 4,
 "nbformat_minor": 2
}
